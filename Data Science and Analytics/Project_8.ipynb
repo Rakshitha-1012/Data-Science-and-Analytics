{
 "cells": [
  {
   "cell_type": "code",
   "execution_count": 1,
   "id": "9f0e9b90-95d1-4b83-8673-6a6f775c8302",
   "metadata": {},
   "outputs": [
    {
     "name": "stdout",
     "output_type": "stream",
     "text": [
      "   respondent_id age_group  satisfaction  time_spent_minutes  purchase_amount  \\\n",
      "0              1     18-25             5                  30              250   \n",
      "1              2     26-35             4                  45              400   \n",
      "2              3     18-25             3                  20              150   \n",
      "3              4     36-45             4                  50              500   \n",
      "4              5     26-35             2                  15              120   \n",
      "\n",
      "  preferred_channel  \n",
      "0             Email  \n",
      "1      Social Media  \n",
      "2         In-Person  \n",
      "3             Email  \n",
      "4             Phone  \n",
      "✅ New survey_report.pdf created with meaningful charts and heatmap.\n"
     ]
    }
   ],
   "source": [
    "import pandas as pd\n",
    "import matplotlib.pyplot as plt\n",
    "import seaborn as sns\n",
    "from PyPDF2 import PdfMerger\n",
    "\n",
    "df = pd.read_csv('survey_data.csv')\n",
    "print(df.head())\n",
    "\n",
    "channel_counts = df['preferred_channel'].value_counts()\n",
    "plt.figure(figsize=(6, 4))\n",
    "channel_counts.plot(kind='bar', color='skyblue')\n",
    "plt.title('Preferred Channel Distribution')\n",
    "plt.xlabel('Channel')\n",
    "plt.ylabel('Number of Responses')\n",
    "plt.tight_layout()\n",
    "plt.savefig('bar_chart.pdf')\n",
    "plt.close()\n",
    "\n",
    "age_counts = df['age_group'].value_counts()\n",
    "plt.figure(figsize=(6, 6))\n",
    "age_counts.plot(kind='pie', autopct='%1.1f%%', colors=sns.color_palette('pastel'))\n",
    "plt.title('Age Group Distribution')\n",
    "plt.tight_layout()\n",
    "plt.savefig('pie_chart.pdf')\n",
    "plt.close()\n",
    "\n",
    "corr = df[['satisfaction', 'time_spent_minutes', 'purchase_amount']].corr()\n",
    "plt.figure(figsize=(6, 5))\n",
    "sns.heatmap(corr, annot=True, cmap='Blues')\n",
    "plt.title('Correlation Heatmap')\n",
    "plt.tight_layout()\n",
    "plt.savefig('heatmap.pdf')\n",
    "plt.close()\n",
    "\n",
    "merger = PdfMerger()\n",
    "merger.append('bar_chart.pdf')\n",
    "merger.append('pie_chart.pdf')\n",
    "merger.append('heatmap.pdf')\n",
    "merger.write('survey_report.pdf')\n",
    "merger.close()\n",
    "\n",
    "print(\"✅ New survey_report.pdf created with meaningful charts and heatmap.\")"
   ]
  },
  {
   "cell_type": "code",
   "execution_count": null,
   "id": "784d269e-1aa8-40d2-8460-e4125fbcccec",
   "metadata": {},
   "outputs": [],
   "source": []
  }
 ],
 "metadata": {
  "kernelspec": {
   "display_name": "Python 3 (ipykernel)",
   "language": "python",
   "name": "python3"
  },
  "language_info": {
   "codemirror_mode": {
    "name": "ipython",
    "version": 3
   },
   "file_extension": ".py",
   "mimetype": "text/x-python",
   "name": "python",
   "nbconvert_exporter": "python",
   "pygments_lexer": "ipython3",
   "version": "3.13.5"
  }
 },
 "nbformat": 4,
 "nbformat_minor": 5
}
